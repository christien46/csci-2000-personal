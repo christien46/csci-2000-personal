{
 "cells": [
  {
   "cell_type": "markdown",
   "metadata": {},
   "source": [
    "# The Game of Life"
   ]
  },
  {
   "cell_type": "markdown",
   "metadata": {
    "collapsed": true
   },
   "source": [
    "Numpy is slanted toward scientific computing and we'll consider in this section the _Game of Life_ by _John Conway_ which is one of the earliest example of cellular automata (see figure below). Those cellular automaton can be conveniently considered as array of cells that are connected together through the notion of neighbours. We'll show in the following sections implementation of this game using pure python and numpy in order to illustrate main differences with python and numpy.\n",
    "![Game of Life](http://www.labri.fr/perso/nrougier/teaching/numpy/figures/game-of-life.png)"
   ]
  },
  {
   "cell_type": "markdown",
   "metadata": {},
   "source": [
    "The Game of Life, also known simply as Life, is a cellular automaton devised by the British mathematician _John Horton Conway_ in 1970. It is the best-known example of a cellular automaton. The \"game\" is actually a _zero-player_ game, meaning that its evolution is determined by its initial state, needing no input from human players. One interacts with the Game of Life by creating an initial configuration and observing how it evolves.\n",
    "\n",
    "The universe of the Game of Life is an infinite two-dimensional orthogonal grid of square cells, each of which is in one of two possible states, live or dead. Every cell interacts with its eight neighbours, which are the cells that are directly horizontally, vertically, or diagonally adjacent. At each step in time, the following transitions occur:\n",
    "\n",
    "1. Any live cell with fewer than two live neighbours dies, as if by needs caused by _underpopulation_.\n",
    "2. Any live cell with more than three live neighbours dies, as if by _overcrowding_.\n",
    "3. Any live cell with two or three live neighbours lives, unchanged, to the next generation (_stasis_).\n",
    "4. Any dead cell with exactly three live neighbours becomes a live cell (_reproduction_).\n",
    "\n",
    "The initial pattern constitutes the '_seed_' of the system. The first generation is created by applying the above rules simultaneously to every cell in the seed – births and deaths happen simultaneously, and the discrete moment at which this happens is sometimes called a tick. (In other words, each generation is a pure function of the one before.) The rules continue to be applied repeatedly to create further generations."
   ]
  },
  {
   "cell_type": "code",
   "execution_count": null,
   "metadata": {
    "collapsed": true
   },
   "outputs": [],
   "source": []
  }
 ],
 "metadata": {
  "kernelspec": {
   "display_name": "Python 3",
   "language": "python",
   "name": "python3"
  },
  "language_info": {
   "codemirror_mode": {
    "name": "ipython",
    "version": 3
   },
   "file_extension": ".py",
   "mimetype": "text/x-python",
   "name": "python",
   "nbconvert_exporter": "python",
   "pygments_lexer": "ipython3",
   "version": "3.4.3"
  }
 },
 "nbformat": 4,
 "nbformat_minor": 0
}
